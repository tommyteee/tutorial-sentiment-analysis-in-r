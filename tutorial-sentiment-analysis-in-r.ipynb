{
 "cells": [
  {
   "cell_type": "markdown",
   "metadata": {
    "_cell_guid": "a07cb4c1-4a03-461c-bf2e-de24a63ce77f",
    "_uuid": "cb33cb376a11a6a6e345ca6e3febc1a0a88d5bc6"
   },
   "source": [
    "____\n",
    "### Learning Goals for This Tutorial\n",
    "\n",
    "By the end of this tutorial you will:\n",
    "* Understand what sentiment analysis is and how it works\n",
    "* Read text from a dataset & tokenize it\n",
    "* Use a sentiment lexicon to analyze the sentiment of texts\n",
    "* Visualize the sentiment of texts\n",
    "\n",
    "### Table of contents\n",
    "\n",
    "* [Introduction](#Introduction)\n",
    "* [Tutorial](#Tutorial)\n",
    "* [Exercises](#Exercises)\n",
    "\n",
    "**<center>Already a sentiment analysis pro? Challenge yourself by jumping straight to the exercises!</center>**\n",
    "____"
   ]
  },
  {
   "cell_type": "markdown",
   "metadata": {
    "_cell_guid": "920cfb01-2eab-46b6-9bcb-82226f9361d9",
    "_uuid": "f86f7299e0d0e22bc5a30d7bed64f12be4ebca6b"
   },
   "source": [
    "# Introduction"
   ]
  },
  {
   "cell_type": "markdown",
   "metadata": {
    "_cell_guid": "0d910fe7-46a0-4667-b12c-c6f0e07dd904",
    "_uuid": "39d5e501abec10f5896de9e626779b1ef039b48b"
   },
   "source": [
    "### What is sentiment analysis?\n",
    "\n",
    "Sentiment analysis is the computational task of automatically determining what feelings a writer is expressing in text. Sentiment is often framed as a binary distinction (positive vs. negative), but it can also be a more fine-grained, like identifying the specific emotion an author is expressing (like fear, joy or anger).\n",
    "\n",
    "Sentiment analysis is used for many applications, especially in business intelligence. Some examples of applications for sentiment analysis include:\n",
    "\n",
    "* Analyzing the social media discussion around a certain topic\n",
    "* Evaluating survey responses\n",
    "* Determining whether product reviews are positive or negative\n",
    "\n",
    "Sentiment analysis is not perfect, and as with any automatic analysis of language, you will have errors in your results. It also cannot tell you why a writer is feeling a certain way. However, it can be useful to quickly summarize some qualities of text, especially if you have so much text that a human reader cannot analyze all of it.\n",
    "\n",
    "_______\n",
    "\n",
    "### How does it work?\n",
    " \n",
    "There are many ways to do sentiment analysis (if you're interested, you can see many of them [here](https://cse.google.com/cse?cx=011664571474657673452%3A4w9swzkcxiy&cof=FORID%3A0&q=sentiment+analysis#gsc.tab=0&gsc.q=sentiment%20analysis&gsc.page=1)). Many approches use the same general idea, however:\n",
    "\n",
    "1. Create or find a list of words associated with strongly positive or negative sentiment.\n",
    "2. Count the number of positive and negative words in the text.\n",
    "3. Analyze the mix of positive to negative words. Many positive words and few negative words indicates positive sentiment, while many negative words and few positive words indicates negative sentiment.\n",
    "\n",
    "The first step, creating or finding a word list (also called a lexicon), is generally the most time-consuming. While you can often use a lexicon that already exists, if your text is discussing a specific topic you may need to add to or modify it.\n",
    "\n",
    "> \"Sick\" is an example of a word that can have positive or negative sentiment depending on what it's used to refer to. If you're discussing a pet store that sells a lot of sick animals, the sentiment is probably negative. On the other hand, if you're talking about a skateboarding instructor who taught you how to do a lot of sick flips, the sentiment is probably very positive."
   ]
  },
  {
   "cell_type": "markdown",
   "metadata": {},
   "source": [
    "# Tutorial"
   ]
  },
  {
   "cell_type": "markdown",
   "metadata": {
    "_cell_guid": "d429214d-97df-4e88-a760-c104b3bb9142",
    "_uuid": "1ce16b22b6d7815ec875ea43ac1aaf42504f199b"
   },
   "source": [
    "For this tutorial, we're going to analyze how the sentiment of the State of the Union address, which is a speech given by the President of the United States to a joint session of congress every year. I'm interested in seeing how sentiment has changed over time, from 1989 to 2017, and whether different presidents tend to have more negative or more positive sentiment. \n",
    "\n",
    "First, let's load in the libraries we'll use and our data."
   ]
  },
  {
   "cell_type": "code",
   "execution_count": 1,
   "metadata": {
    "_cell_guid": "d5b988fd-7a5a-4a18-851f-5d36e8cd6185",
    "_uuid": "31825346a9fa1871f94c4b39962a39a1b8b83ec4",
    "collapsed": true
   },
   "outputs": [
    {
     "name": "stderr",
     "output_type": "stream",
     "text": [
      "Loading tidyverse: ggplot2\n",
      "Loading tidyverse: tibble\n",
      "Loading tidyverse: tidyr\n",
      "Loading tidyverse: readr\n",
      "Loading tidyverse: purrr\n",
      "Loading tidyverse: dplyr\n",
      "Conflicts with tidy packages ---------------------------------------------------\n",
      "filter(): dplyr, stats\n",
      "lag():    dplyr, stats\n",
      "\n",
      "Attaching package: ‘glue’\n",
      "\n",
      "The following object is masked from ‘package:dplyr’:\n",
      "\n",
      "    collapse\n",
      "\n"
     ]
    }
   ],
   "source": [
    "# load in the libraries we'll need\n",
    "library(tidyverse)\n",
    "library(tidytext)\n",
    "library(glue)\n",
    "library(stringr)\n",
    "\n",
    "# get a list of the files in the input directory\n",
    "files <- list.files(\"../input\")"
   ]
  },
  {
   "cell_type": "markdown",
   "metadata": {
    "_cell_guid": "db642273-8311-474b-bffb-09f24c79824e",
    "_uuid": "ec641a7ccdfdd76f79323c3ffe73ff7714bf33e4"
   },
   "source": [
    "Let's start with the first file. The first thing we need to do is tokenize it, or break it into individual words. You can learn more about tokenization by following [this tutorial](https://www.kaggle.com/rtatman/tokenization-tutorial)."
   ]
  },
  {
   "cell_type": "code",
   "execution_count": 2,
   "metadata": {
    "_cell_guid": "041dd4bd-f711-4c79-b1fb-f96077a0f616",
    "_uuid": "a822cb011475075e1a92c9fd4db7318498e07a8d",
    "collapsed": true
   },
   "outputs": [],
   "source": [
    "# stick together the path to the file & 1st file name\n",
    "fileName <- glue(\"../input/\", files[1], sep = \"\")\n",
    "# get rid of any sneaky trailing spaces\n",
    "fileName <- trimws(fileName)\n",
    "\n",
    "# read in the new file\n",
    "fileText <- glue(read_file(fileName))\n",
    "# remove any dollar signs (they're special characters in R)\n",
    "fileText <- gsub(\"\\\\$\", \"\", fileText) \n",
    "\n",
    "# tokenize\n",
    "tokens <- data_frame(text = fileText) %>% unnest_tokens(word, text)"
   ]
  },
  {
   "cell_type": "markdown",
   "metadata": {
    "_cell_guid": "df8b7a41-e1fa-40a6-902f-5cb9f03c1deb",
    "_uuid": "3a9a5a4a10251a8ec63f252df0ae782a4984280b"
   },
   "source": [
    "Now that we have a list of tokens, we need to compare them against a list of words with either positive or negative sentiment.\n",
    "\n",
    "> A list of words associated with a specific sentiment is usually called a \"sentiment lexicon\".\n",
    "\n",
    "Because we're using the tidytext package, we actually already have some of these lists. I'm going to be using the \"bing\" list, which was developed by [Bing Liu and co-authors](https://www.cs.uic.edu/~liub/FBS/sentiment-analysis.html)."
   ]
  },
  {
   "cell_type": "code",
   "execution_count": 3,
   "metadata": {
    "_cell_guid": "08ad7657-d8cf-4840-a4c1-ed3a01edb0cc",
    "_uuid": "0338a334022dc26e38fad2d63afbd9554545cb35",
    "collapsed": true
   },
   "outputs": [
    {
     "name": "stderr",
     "output_type": "stream",
     "text": [
      "Joining, by = \"word\"\n"
     ]
    },
    {
     "data": {
      "text/html": [
       "<table>\n",
       "<thead><tr><th scope=col>negative</th><th scope=col>positive</th><th scope=col>sentiment</th></tr></thead>\n",
       "<tbody>\n",
       "\t<tr><td>117</td><td>240</td><td>123</td></tr>\n",
       "</tbody>\n",
       "</table>\n"
      ],
      "text/latex": [
       "\\begin{tabular}{r|lll}\n",
       " negative & positive & sentiment\\\\\n",
       "\\hline\n",
       "\t 117 & 240 & 123\\\\\n",
       "\\end{tabular}\n"
      ],
      "text/markdown": [
       "\n",
       "negative | positive | sentiment | \n",
       "|---|\n",
       "| 117 | 240 | 123 | \n",
       "\n",
       "\n"
      ],
      "text/plain": [
       "  negative positive sentiment\n",
       "1 117      240      123      "
      ]
     },
     "metadata": {},
     "output_type": "display_data"
    }
   ],
   "source": [
    "# get the sentiment from the first text: \n",
    "tokens %>%\n",
    "  inner_join(get_sentiments(\"bing\")) %>% # pull out only sentiment words\n",
    "  count(sentiment) %>% # count the # of positive & negative words\n",
    "  spread(sentiment, n, fill = 0) %>% # made data wide rather than narrow\n",
    "  mutate(sentiment = positive - negative) # # of positive words - # of negative owrds"
   ]
  },
  {
   "cell_type": "markdown",
   "metadata": {
    "_cell_guid": "cdd3f01f-4c2b-4e71-99e7-8be431973660",
    "_uuid": "12c617106e87ed4556ac35790eb3460c0fb28f1a"
   },
   "source": [
    "So this text has 117 negative polarity words and 240 positive polarity words. This means that there are 123 more positive than negative words in this text.\n",
    "\n",
    "Now that we know how to get the sentiment for a given text, let's write a function to do this more quickly and easily and then apply that function to every text in our dataset."
   ]
  },
  {
   "cell_type": "code",
   "execution_count": 4,
   "metadata": {
    "_cell_guid": "d3d14cd5-16d5-4401-8680-bc552b1ce15a",
    "_uuid": "e80c002c1b811672d392c8aa38a1948b92f3c123",
    "collapsed": true
   },
   "outputs": [
    {
     "name": "stderr",
     "output_type": "stream",
     "text": [
      "Joining, by = \"word\"\n"
     ]
    },
    {
     "data": {
      "text/html": [
       "<table>\n",
       "<thead><tr><th scope=col>negative</th><th scope=col>positive</th><th scope=col>sentiment</th><th scope=col>file</th><th scope=col>year</th><th scope=col>president</th></tr></thead>\n",
       "<tbody>\n",
       "\t<tr><td>117          </td><td>240          </td><td>123          </td><td>Bush_1989.txt</td><td>1989         </td><td>Bush         </td></tr>\n",
       "</tbody>\n",
       "</table>\n"
      ],
      "text/latex": [
       "\\begin{tabular}{r|llllll}\n",
       " negative & positive & sentiment & file & year & president\\\\\n",
       "\\hline\n",
       "\t 117             & 240             & 123             & Bush\\_1989.txt & 1989            & Bush           \\\\\n",
       "\\end{tabular}\n"
      ],
      "text/markdown": [
       "\n",
       "negative | positive | sentiment | file | year | president | \n",
       "|---|\n",
       "| 117           | 240           | 123           | Bush_1989.txt | 1989          | Bush          | \n",
       "\n",
       "\n"
      ],
      "text/plain": [
       "  negative positive sentiment file          year president\n",
       "1 117      240      123       Bush_1989.txt 1989 Bush     "
      ]
     },
     "metadata": {},
     "output_type": "display_data"
    }
   ],
   "source": [
    "# write a function that takes the name of a file and returns the # of postive\n",
    "# sentiment words, negative sentiment words, the difference & the normalized difference\n",
    "GetSentiment <- function(file){\n",
    "    # get the file\n",
    "    fileName <- glue(\"../input/\", file, sep = \"\")\n",
    "    # get rid of any sneaky trailing spaces\n",
    "    fileName <- trimws(fileName)\n",
    "\n",
    "    # read in the new file\n",
    "    fileText <- glue(read_file(fileName))\n",
    "    # remove any dollar signs (they're special characters in R)\n",
    "    fileText <- gsub(\"\\\\$\", \"\", fileText) \n",
    "\n",
    "    # tokenize\n",
    "    tokens <- data_frame(text = fileText) %>% unnest_tokens(word, text)\n",
    "\n",
    "    # get the sentiment from the first text: \n",
    "    sentiment <- tokens %>%\n",
    "      inner_join(get_sentiments(\"bing\")) %>% # pull out only sentimen words\n",
    "      count(sentiment) %>% # count the # of positive & negative words\n",
    "      spread(sentiment, n, fill = 0) %>% # made data wide rather than narrow\n",
    "      mutate(sentiment = positive - negative) %>% # # of positive words - # of negative owrds\n",
    "      mutate(file = file) %>% # add the name of our file\n",
    "      mutate(year = as.numeric(str_match(file, \"\\\\d{4}\"))) %>% # add the year\n",
    "      mutate(president = str_match(file, \"(.*?)_\")[2]) # add president\n",
    "\n",
    "    # return our sentiment dataframe\n",
    "    return(sentiment)\n",
    "}\n",
    "\n",
    "# test: should return\n",
    "# negative\tpositive\tsentiment\tfile\tyear\tpresident\n",
    "# 117\t240\t123\tBush_1989.txt\t1989\tBush\n",
    "GetSentiment(files[1])"
   ]
  },
  {
   "cell_type": "markdown",
   "metadata": {
    "_cell_guid": "43ed2069-c5d5-4f2d-a1a6-af0912fb8d44",
    "_uuid": "8295d11d1140eab32463ef0896e496a0f90b02bb"
   },
   "source": [
    "Now, let's apply our function over every file in our dataset. We'll also need to make sure we can tell the difference between the two presidents named \"Bush\": Bush and Bush Sr."
   ]
  },
  {
   "cell_type": "code",
   "execution_count": 5,
   "metadata": {
    "_cell_guid": "cadeb04d-41c0-4a54-94ef-2607501f5113",
    "_uuid": "68506f90c2827305025878f77dc285e7fea6b25d",
    "collapsed": true
   },
   "outputs": [
    {
     "name": "stderr",
     "output_type": "stream",
     "text": [
      "Joining, by = \"word\"\n",
      "Joining, by = \"word\"\n",
      "Joining, by = \"word\"\n",
      "Joining, by = \"word\"\n",
      "Joining, by = \"word\"\n",
      "Joining, by = \"word\"\n",
      "Joining, by = \"word\"\n",
      "Joining, by = \"word\"\n",
      "Joining, by = \"word\"\n",
      "Joining, by = \"word\"\n",
      "Joining, by = \"word\"\n",
      "Joining, by = \"word\"\n",
      "Joining, by = \"word\"\n",
      "Joining, by = \"word\"\n",
      "Joining, by = \"word\"\n",
      "Joining, by = \"word\"\n",
      "Joining, by = \"word\"\n",
      "Joining, by = \"word\"\n",
      "Joining, by = \"word\"\n",
      "Joining, by = \"word\"\n",
      "Joining, by = \"word\"\n",
      "Joining, by = \"word\"\n",
      "Joining, by = \"word\"\n",
      "Joining, by = \"word\"\n",
      "Joining, by = \"word\"\n",
      "Joining, by = \"word\"\n",
      "Joining, by = \"word\"\n",
      "Joining, by = \"word\"\n",
      "Joining, by = \"word\"\n",
      "Joining, by = c(\"negative\", \"positive\", \"sentiment\", \"file\", \"year\", \"president\")\n",
      "Joining, by = c(\"negative\", \"positive\", \"sentiment\", \"file\", \"year\", \"president\")\n"
     ]
    },
    {
     "data": {
      "text/plain": [
       "    negative        positive       sentiment         file          \n",
       " Min.   : 49.0   Min.   :169.0   Min.   : 43.0   Length:29         \n",
       " 1st Qu.:122.0   1st Qu.:240.0   1st Qu.:102.0   Class :character  \n",
       " Median :144.0   Median :289.0   Median :140.0   Mode  :character  \n",
       " Mean   :143.5   Mean   :280.4   Mean   :136.9                     \n",
       " 3rd Qu.:161.0   3rd Qu.:310.0   3rd Qu.:171.0                     \n",
       " Max.   :223.0   Max.   :438.0   Max.   :277.0                     \n",
       "      year       president        \n",
       " Min.   :1989   Length:29         \n",
       " 1st Qu.:1996   Class :character  \n",
       " Median :2003   Mode  :character  \n",
       " Mean   :2003                     \n",
       " 3rd Qu.:2010                     \n",
       " Max.   :2017                     "
      ]
     },
     "metadata": {},
     "output_type": "display_data"
    }
   ],
   "source": [
    "# file to put our output in\n",
    "sentiments <- data_frame()\n",
    "\n",
    "# get the sentiments for each file in our datset\n",
    "for(i in files){\n",
    "    sentiments <- rbind(sentiments, GetSentiment(i))\n",
    "}\n",
    "\n",
    "# disambiguate Bush Sr. and George W. Bush \n",
    "# correct president in applicable rows\n",
    "bushSr <- sentiments %>% \n",
    "  filter(president == \"Bush\") %>% # get rows where the president is named \"Bush\"...\n",
    "  filter(year < 2000) %>% # ...and the year is before 200\n",
    "  mutate(president = \"Bush Sr.\") # and change \"Bush\" to \"Bush Sr.\"\n",
    "\n",
    "# remove incorrect rows\n",
    "sentiments <- anti_join(sentiments, sentiments[sentiments$president == \"Bush\" & sentiments$year < 2000, ])\n",
    "\n",
    "# add corrected rows to data_frame \n",
    "sentiments <- full_join(sentiments, bushSr)\n",
    "\n",
    "# summerize the sentiment measures\n",
    "summary(sentiments)"
   ]
  },
  {
   "cell_type": "markdown",
   "metadata": {
    "_cell_guid": "fc8b52a0-f714-4636-adc7-7fc974ddedf5",
    "_uuid": "53379c1f747bcd153fd9806bb9b13910e58eb087"
   },
   "source": [
    "It looks like every State of the Union address in this dataset has an overall positive sentiment (according to this measure). This isn't very surprising: most text, especially formal text, tends to have a positive skew.\n",
    "\n",
    "Let's plot our sentiment analysis scores to see if we can notice any other patterns. Has sentiment changed over time? What about between presidents?"
   ]
  },
  {
   "cell_type": "code",
   "execution_count": 6,
   "metadata": {
    "_cell_guid": "21e6c658-2045-44d9-b347-f740c8468d9d",
    "_uuid": "bc2a9d8ea2fea7ea8282322fe1d3787f8532afaa",
    "collapsed": true
   },
   "outputs": [
    {
     "name": "stderr",
     "output_type": "stream",
     "text": [
      "`geom_smooth()` using method = 'loess' and formula 'y ~ x'\n"
     ]
    },
    {
     "data": {},
     "metadata": {},
     "output_type": "display_data"
    },
    {
     "data": {
      "image/png": "[encoded data removed]"
     },
     "metadata": {},
     "output_type": "display_data"
    }
   ],
   "source": [
    "# plot of sentiment over time & automatically choose a method to model the change\n",
    "ggplot(sentiments, aes(x = as.numeric(year), y = sentiment)) + \n",
    "  geom_point(aes(color = president))+ # add points to our plot, color-coded by president\n",
    "  geom_smooth(method = \"auto\") # pick a method & fit a model"
   ]
  },
  {
   "cell_type": "markdown",
   "metadata": {
    "_cell_guid": "e5f2be2c-38f1-4ee2-90a0-1a476c9cb53d",
    "_uuid": "9eea6964ed76cadb7eb096d758795527c6260962"
   },
   "source": [
    "While it looks like there haven't been any strong trends over time, the line above suggests that presidents from the Democratic party (Clinton and Obama) have a slightly more positive sentiment than presidents from the Republican party (Bush Sr., Bush and Trump).  Let's look at individual presidents and see if that pattern holds:"
   ]
  },
  {
   "cell_type": "code",
   "execution_count": 7,
   "metadata": {
    "_cell_guid": "5e483327-e9ad-4b8b-9ce3-113c17fab211",
    "_uuid": "b88e65f9329f01266d0579cb5d74a41144627bc2",
    "collapsed": true
   },
   "outputs": [
    {
     "data": {},
     "metadata": {},
     "output_type": "display_data"
    },
    {
     "data": {
      "image/png": "[encoded data removed]"
     },
     "metadata": {},
     "output_type": "display_data"
    }
   ],
   "source": [
    "# plot of sentiment by president\n",
    "ggplot(sentiments, aes(x = president, y = sentiment, color = president)) + \n",
    "  geom_boxplot() # draw a boxplot for each president"
   ]
  },
  {
   "cell_type": "markdown",
   "metadata": {
    "_cell_guid": "3d57c09a-51f5-4c87-bcff-a41635f899c0",
    "_uuid": "aacd1b389655801652330c747c9455ff59e3bce0"
   },
   "source": [
    "It looks like this is a pretty strong pattern. Let's directly compare the two parties to see if there's a reliable difference between them. We'll need to manually label which presidents were Democratic and which were Republican and then test to see if there's a difference in their sentiment scores."
   ]
  },
  {
   "cell_type": "code",
   "execution_count": 8,
   "metadata": {
    "_cell_guid": "f2ba6cf9-b521-4464-baf8-dd4e95dae61b",
    "_uuid": "a717b74c5cf2775460cd895c45e0b9f033e973ea",
    "collapsed": true,
    "scrolled": false
   },
   "outputs": [
    {
     "name": "stderr",
     "output_type": "stream",
     "text": [
      "Warning message in president == c(\"Clinton\", \"Obama\"):\n",
      "“longer object length is not a multiple of shorter object length”Joining, by = c(\"negative\", \"positive\", \"sentiment\", \"file\", \"year\", \"president\", \"party\")\n"
     ]
    },
    {
     "data": {
      "text/plain": [
       "\n",
       "\tWelch Two Sample t-test\n",
       "\n",
       "data:  democrats$sentiment and republicans$sentiment\n",
       "t = 2.2442, df = 16.606, p-value = 0.03876\n",
       "alternative hypothesis: true difference in means is not equal to 0\n",
       "95 percent confidence interval:\n",
       "  2.256549 75.320374\n",
       "sample estimates:\n",
       "mean of x mean of y \n",
       " 149.2500  110.4615 \n"
      ]
     },
     "metadata": {},
     "output_type": "display_data"
    },
    {
     "data": {},
     "metadata": {},
     "output_type": "display_data"
    },
    {
     "data": {
      "image/png": "[encoded data removed]"
     },
     "metadata": {},
     "output_type": "display_data"
    }
   ],
   "source": [
    "# is the difference between parties significant?\n",
    "# get democratic presidents & add party affiliation\n",
    "democrats <- sentiments %>%\n",
    "    filter(president == c(\"Clinton\",\"Obama\")) %>%\n",
    "    mutate(party = \"D\")\n",
    "\n",
    "# get democratic presidents & party add affiliation\n",
    "republicans <- sentiments %>%\n",
    "    filter(president != \"Clinton\" & president != \"Obama\") %>%\n",
    "    mutate(party = \"R\")\n",
    "\n",
    "# join both\n",
    "byParty <- full_join(democrats, republicans)\n",
    "\n",
    "# the difference between the parties is significant\n",
    "t.test(democrats$sentiment, republicans$sentiment)\n",
    "\n",
    "# plot sentiment by party\n",
    "ggplot(byParty, aes(x = party, y = sentiment, color = party)) + geom_boxplot() + geom_point()"
   ]
  },
  {
   "cell_type": "markdown",
   "metadata": {
    "_cell_guid": "54d45b3a-dcfb-4e75-9be1-ed932cc67b31",
    "_uuid": "b5629f73da67e62fcd4f10e777813fd46cc4b66c"
   },
   "source": [
    "So it looks like there is a reliable difference in the sentiment of the State of the Union addresses given by Democratic and Republican presidents, at least from 1989 to 2017. \n",
    "\n",
    "There a couple things to keep in mind with this analysis, though: \n",
    "\n",
    "* We didn't correct for the length of the documents. It could be that the State of the Union addresses from Democratic presidents have more positive words becuase they are longer rather than becuase they are more positive.\n",
    "* We're using a general-purpose list of words rather than one specifically designed for analyzing political language. Furthermore, we only used one sentiment analysis list. \n",
    "\n",
    "With these two things in mind, I've written a couple of exercises for you. You can fork this notebook and continue working in the code chunks below."
   ]
  },
  {
   "cell_type": "markdown",
   "metadata": {},
   "source": [
    "# Exercises"
   ]
  },
  {
   "cell_type": "markdown",
   "metadata": {
    "_cell_guid": "0d75f5d0-2e8e-44d4-b767-0803543e91a4",
    "_uuid": "e663e6fc3c8dfc505376da9d05323e795f01b17a"
   },
   "source": [
    "Now that you're familiar with the basics of sentiment analysis, it's time for you to try your hand at it yourself! These exercises have been designed to get progressively more difficult, so I'd recommend completing them in order."
   ]
  },
  {
   "cell_type": "markdown",
   "metadata": {
    "_cell_guid": "40141163-d591-4c6b-9751-438b2dd8a9d5",
    "_uuid": "2286b4d5097f79b406760579a468eaba6d01a6be"
   },
   "source": [
    "### Exercise 1: Normalizing for text length"
   ]
  },
  {
   "cell_type": "code",
   "execution_count": 9,
   "metadata": {
    "_cell_guid": "73d23c22-2061-4f00-9a72-b58aff43cf3e",
    "_uuid": "08dccb553f31ec7c3ac27df1d8eb48eff3802909",
    "collapsed": true
   },
   "outputs": [],
   "source": [
    "# Rewrite the function GetSentiment so that it also returns the sentiment score\n",
    "# divided by the number of words in each document.\n",
    "\n",
    "# hint: you can use the function nrow() on your tokenized data_frame to find \n",
    "# the number of tokens in each document\n",
    "\n",
    "# How does normalizing for text length change the outcome of the analysis?"
   ]
  },
  {
   "cell_type": "markdown",
   "metadata": {
    "_cell_guid": "b3f027a4-1f3b-478b-b3c6-fc563a6fdb63",
    "_uuid": "e78ccb7d8758dc630af26713eeac9f44ecbad8c3"
   },
   "source": [
    "### Exercise 2: Using a different sentiment lexicon\n"
   ]
  },
  {
   "cell_type": "code",
   "execution_count": 10,
   "metadata": {
    "_cell_guid": "6245bbff-f9f8-41a3-9a60-cbd8ca53133e",
    "_uuid": "410042761931d793e5987c648a7fb6a7f4692ef2",
    "collapsed": true
   },
   "outputs": [],
   "source": [
    "# The get_sentiments function has a number of different sentiment lexicons\n",
    "# included in it. Repeat the analysis above with the \"afinn\" lexicon\n",
    "# instead of the \"bing\" lexicon. (You can learnd about the \"afinn\" lexicon\n",
    "# here: http://www2.imm.dtu.dk/pubdb/views/publication_details.php?id=6010).\n",
    "# Note that the \"afinn\" lexicon uses a scale for annotation. +5 is very \n",
    "# positive, while -5 is very negative.\n",
    "\n",
    "# Does using a different lexicon result in a different outcome for your\n",
    "# analysis? What does this suggest about the original analysis?"
   ]
  },
  {
   "cell_type": "markdown",
   "metadata": {
    "_cell_guid": "7049e78e-e7c8-4900-8a2f-e48d673eb6e4",
    "_uuid": "bb254470d04b774492210baa4d62ea7ca46f5993"
   },
   "source": [
    "### Exercise 3: Creating your own sentiment lexicon"
   ]
  },
  {
   "cell_type": "code",
   "execution_count": 11,
   "metadata": {
    "_cell_guid": "ef9dd2d2-6aa5-4bb3-85d7-a849f32336e6",
    "_uuid": "b856aa6c2f166c2b1997674b321b164bd24710af",
    "collapsed": true
   },
   "outputs": [],
   "source": [
    "# Below, I've gotten a list of the 50 most frequent words in this corpus \n",
    "# (removing very common words like \"and\" or \"the\") that aren't also in the \n",
    "# \"bing\" lexicon. Can you tag these words for their sentiment, either positive,\n",
    "# negative or neutral, and then use them to augment the \"bing\" sentiment lexicon?\n",
    "\n",
    "# hint: you may find it easiest to upload your annotated list as a separate\n",
    "# dataset and add it to the kernel.\n",
    "\n",
    "# How does this affect your analysis? Do you think it would have had a different \n",
    "# effect if you had annotated 500 words instead? 50,000? Would your new lexicon\n",
    "# be helpful in analyzing product reviews? Tweets?"
   ]
  },
  {
   "cell_type": "code",
   "execution_count": 12,
   "metadata": {
    "_cell_guid": "739d5261-9132-4629-affd-3dba6613ae29",
    "_uuid": "10b5937b6f06358ab25aab145aea7d138a2f0e81",
    "collapsed": true
   },
   "outputs": [
    {
     "name": "stderr",
     "output_type": "stream",
     "text": [
      "Joining, by = \"word\"\n",
      "Joining, by = \"word\"\n",
      "Selecting by n\n"
     ]
    }
   ],
   "source": [
    "# in this code block, we're getting a list of the 100 most frequent words in this\n",
    "# corpus that 1) aren't stop words and 2) aren't already in the Bing lexicon\n",
    "\n",
    "# function to get tokens from a file\n",
    "fileToTokens <- function(file){\n",
    "    # get the file\n",
    "    fileName <- glue(\"../input/\", file, sep = \"\")\n",
    "    # get rid of any sneaky trailing spaces\n",
    "    fileName <- trimws(fileName)\n",
    "\n",
    "    # read in the new file\n",
    "    fileText <- glue(read_file(fileName))\n",
    "    # remove any dollar signs (they're special characters in R)\n",
    "    fileText <- gsub(\"\\\\$\", \"\", fileText) \n",
    "\n",
    "    # tokenize\n",
    "    tokens <- data_frame(text = fileText) %>% unnest_tokens(word, text)\n",
    "}\n",
    "\n",
    "# empty data_frame to save our data in\n",
    "allTokens <- NULL\n",
    "\n",
    "# get the tokens in each file\n",
    "for(i in files){\n",
    "    allTokens <- rbind(allTokens, fileToTokens(i))\n",
    "}\n",
    "\n",
    "# get words already in the Bing sentiment dictionary\n",
    "bingWords <- get_sentiments(\"bing\")[,1]\n",
    "\n",
    "# get the top 100 most frequent words, excluding stop words\n",
    "# and word already in the \"bing\" lexicon\n",
    "top100Words <- allTokens %>% \n",
    "    anti_join(stop_words) %>% # remove stop words\n",
    "    anti_join(bingWords) %>% # remove words in the bing lexicon\n",
    "    count(word, sort = T) %>% # sort by frequency\n",
    "    top_n(100) # get the top 100 terms\n",
    "\n",
    "# Save out the file (it will show up under \"output\") so you can download it\n",
    "# and annotate it in a different program (if you like)\n",
    "write.csv(top100Words, \"top100Words.csv\")"
   ]
  },
  {
   "cell_type": "markdown",
   "metadata": {
    "_cell_guid": "24c6d652-51e5-46d5-a772-aaa412ad1b64",
    "_uuid": "c145fbdfd003ca01ba3b725500f0bd8f79062e4f"
   },
   "source": [
    "### Exercise 4: Analyzing a new dataset\n",
    "\n",
    "Now that you've got the skills to do sentiment analyis, it's time to apply them to a new dataset. You can find a list of text corpora already on Kaggle [here](https://www.kaggle.com/datasets?sortBy=updated&group=featured&search=corpus), but I've also selected a couple that I think would lend themselves well to sentiment analysis. I've also included some links to other sentiment lexicons you can find on Kaggle. Many are even for low-resource languages!\n",
    "\n",
    "#### Text Corpora on Kaggle:\n",
    "\n",
    "* [Eurovision YouTube Comments: YouTube comments on entries from the 2003-2008 Eurovision Song Contests](https://www.kaggle.com/rtatman/eurovision-youtube-comments)\n",
    "* [UN General Debates:Transcriptions of general debates at the UN from 1970 to 2016](https://www.kaggle.com/unitednations/un-general-debates)\n",
    "* [State of the Nation Corpus (1990 - 2017): Full texts of the South African State of the Nation addresses](https://www.kaggle.com/allank/state-of-the-nation-1990-2017)\n",
    "* [A Million News Headlines: News headlines published over a period of 14 years.](https://www.kaggle.com/therohk/million-headlines)\n",
    "* [SCOTUS Opinions Corpus: Lots of Big, Important Words](https://www.kaggle.com/jboysen/scotus-corpus)\n",
    "* [Old Newspapers: A cleaned subset of HC Corpora newspapers](https://www.kaggle.com/alvations/old-newspapers)\n",
    "* [Ubuntu Dialogue Corpus: 26 million turns from natural two-person dialogues](https://www.kaggle.com/rtatman/ubuntu-dialogue-corpus)\n",
    "* [Fraudulent E-mail Corpus: CLAIR collection of \"Nigerian\" fraud emails](https://www.kaggle.com/rtatman/fraudulent-email-corpus)\n",
    "* [Ironic Corpus: 1950 sentences labeled for ironic conten](https://www.kaggle.com/rtatman/ironic-corpus)\n",
    "\n",
    "#### Additional Lexicons:\n",
    "\n",
    "* [Sentiment Lexicons for 81 Languages: Sentiment Polarity Lexicons (Positive vs. Negative)](https://www.kaggle.com/rtatman/sentiment-lexicons-for-81-languages)\n",
    "* [SentiWordNet: Sentiment WordNet Project](https://www.kaggle.com/nltkdata/sentiwordnet)\n",
    "* [Thai Sentiment Analysis Toolkit: Positive, negative and swear words in Thai](https://www.kaggle.com/rtatman/thai-sentiment-analysis-toolkit)\n",
    "* [German Sentiment Analysis Toolkit: 3468 German words sorted by sentiment](https://www.kaggle.com/rtatman/german-sentiment-analysis-toolkit)\n",
    "* [Vader Lexicon: Lexicon use for the Vader Sentiment Algorithm](https://www.kaggle.com/nltkdata/vader-lexicon)\n",
    "* [Opinion Lexicon: For Sentiment Analysis](https://www.kaggle.com/nltkdata/opinion-lexicon)\n",
    "* [VerbNet: VerbNet Lexicon, Version 2.1](https://www.kaggle.com/nltkdata/verbnet)\n",
    "\n",
    "Good luck and have fun! :)"
   ]
  }
 ],
 "metadata": {
  "kernelspec": {
   "display_name": "R",
   "language": "R",
   "name": "ir"
  },
  "language_info": {
   "codemirror_mode": "r",
   "file_extension": ".r",
   "mimetype": "text/x-r-source",
   "name": "R",
   "pygments_lexer": "r",
   "version": "3.4.1"
  }
 },
 "nbformat": 4,
 "nbformat_minor": 1
}
